{
  "nbformat": 4,
  "nbformat_minor": 0,
  "metadata": {
    "colab": {
      "provenance": []
    },
    "kernelspec": {
      "name": "python3",
      "display_name": "Python 3"
    }
  },
  "cells": [
    {
      "cell_type": "code",
      "metadata": {
        "id": "maWS4-uE0Hm6",
        "outputId": "7adf963a-2bc1-4139-a3ca-a4c793936a10",
        "colab": {
          "base_uri": "https://localhost:8080/"
        }
      },
      "source": [
        "import tensorflow as tf\n",
        "import numpy as np\n",
        "import matplotlib.pyplot as plt\n",
        "import keras\n",
        "\n",
        "# Load themnist pre-shuffled train data and test data\n",
        "(x_train, y_train), (x_test, y_test) = tf.keras.datasets.mnist.load_data()\n",
        "print(\"x_train shape:\", x_train.shape, \"y_train shape:\", y_train.shape,\"x_test shape:\", x_test.shape, \"y_test shape:\", y_test.shape)"
      ],
      "execution_count": 1,
      "outputs": [
        {
          "output_type": "stream",
          "name": "stdout",
          "text": [
            "Downloading data from https://storage.googleapis.com/tensorflow/tf-keras-datasets/mnist.npz\n",
            "11490434/11490434 [==============================] - 0s 0us/step\n",
            "x_train shape: (60000, 28, 28) y_train shape: (60000,) x_test shape: (10000, 28, 28) y_test shape: (10000,)\n"
          ]
        }
      ]
    },
    {
      "cell_type": "code",
      "metadata": {
        "id": "vxKLZSbE99DB"
      },
      "source": [
        "np.random.seed(0)"
      ],
      "execution_count": 2,
      "outputs": []
    },
    {
      "cell_type": "code",
      "metadata": {
        "id": "pvjFq4RY0K4P",
        "outputId": "8c0c8519-0142-4750-b2c5-8fc88c62eccb",
        "colab": {
          "base_uri": "https://localhost:8080/",
          "height": 279
        }
      },
      "source": [
        "# Show one of the images from the training dataset\n",
        "plt.xticks([])\n",
        "plt.yticks([])\n",
        "plt.xlabel([y_train[1]])\n",
        "plt.imshow(x_train[1],cmap=plt.cm.binary)"
      ],
      "execution_count": 3,
      "outputs": [
        {
          "output_type": "execute_result",
          "data": {
            "text/plain": [
              "<matplotlib.image.AxesImage at 0x7fdfc5b95ca0>"
            ]
          },
          "metadata": {},
          "execution_count": 3
        },
        {
          "output_type": "display_data",
          "data": {
            "text/plain": [
              "<Figure size 432x288 with 1 Axes>"
            ],
            "image/png": "[encoded data removed]"
          },
          "metadata": {}
        }
      ]
    },
    {
      "cell_type": "code",
      "metadata": {
        "id": "v9EoMjPQ0L6K"
      },
      "source": [
        "# Training data will have to be converted to 32 bit floats. \n",
        "# We divide it by 255 as its the highest number represented before conversion and the resulting value is between 0.0 to 1.0\n",
        "x_train = x_train.astype('float32') / 255\n",
        "x_test = x_test.astype('float32') / 255\n"
      ],
      "execution_count": 4,
      "outputs": []
    },
    {
      "cell_type": "code",
      "metadata": {
        "id": "unv7UkJu0L3y",
        "outputId": "96f871e1-520d-42a4-feb5-4ca39dfc2d5c",
        "colab": {
          "base_uri": "https://localhost:8080/"
        }
      },
      "source": [
        "model = tf.keras.Sequential()\n",
        "# Must define the input shape in the first layer of the neural network\n",
        "\n",
        "# Creating a layer with 64 kernels with a size of 2X2. Each kernel moves accorss the text image by 1 and the output being same size of input. Relu function is used\n",
        "model.add(tf.keras.layers.Conv2D(filters=64, kernel_size=(2,2),strides=(1, 1), padding='same', activation='relu', input_shape=(28,28,1))) \n",
        "model.add(tf.keras.layers.MaxPooling2D(pool_size=(2,2))) # Max-Pooling operation is called and downscaling by a factor of 2 is done \n",
        "model.add(tf.keras.layers.Dropout(0.3)) # Using dropout layers to prevent overfitting of the model\n",
        "\n",
        "# Adding another layer with certain parameters\n",
        "\n",
        "model.add(tf.keras.layers.Conv2D(filters=32, kernel_size=(2,2),strides=(1, 1), padding='same', activation=keras.layers.LeakyReLU(alpha=0.02)))\n",
        "model.add(tf.keras.layers.MaxPooling2D(pool_size=(2,2)))\n",
        "model.add(tf.keras.layers.Dropout(0.2))\n",
        "\n",
        "# Flattening the input \n",
        "model.add(tf.keras.layers.Flatten())\n",
        "\n",
        "# we have 10 classes in our dataset and two dense layers of 260 and 10 as its dimensions can be used  \n",
        "model.add(tf.keras.layers.Dense(260, activation='relu'))\n",
        "model.add(tf.keras.layers.Dropout(0.5))\n",
        "model.add(tf.keras.layers.Dense(10, activation='softmax'))\n",
        "\n",
        "# To get the model summary\n",
        "model.summary()\n"
      ],
      "execution_count": 5,
      "outputs": [
        {
          "output_type": "stream",
          "name": "stdout",
          "text": [
            "Model: \"sequential\"\n",
            "_________________________________________________________________\n",
            " Layer (type)                Output Shape              Param #   \n",
            "=================================================================\n",
            " conv2d (Conv2D)             (None, 28, 28, 64)        320       \n",
            "                                                                 \n",
            " max_pooling2d (MaxPooling2D  (None, 14, 14, 64)       0         \n",
            " )                                                               \n",
            "                                                                 \n",
            " dropout (Dropout)           (None, 14, 14, 64)        0         \n",
            "                                                                 \n",
            " conv2d_1 (Conv2D)           (None, 14, 14, 32)        8224      \n",
            "                                                                 \n",
            " max_pooling2d_1 (MaxPooling  (None, 7, 7, 32)         0         \n",
            " 2D)                                                             \n",
            "                                                                 \n",
            " dropout_1 (Dropout)         (None, 7, 7, 32)          0         \n",
            "                                                                 \n",
            " flatten (Flatten)           (None, 1568)              0         \n",
            "                                                                 \n",
            " dense (Dense)               (None, 260)               407940    \n",
            "                                                                 \n",
            " dropout_2 (Dropout)         (None, 260)               0         \n",
            "                                                                 \n",
            " dense_1 (Dense)             (None, 10)                2610      \n",
            "                                                                 \n",
            "=================================================================\n",
            "Total params: 419,094\n",
            "Trainable params: 419,094\n",
            "Non-trainable params: 0\n",
            "_________________________________________________________________\n"
          ]
        }
      ]
    },
    {
      "cell_type": "code",
      "metadata": {
        "id": "QumZFXdt0L0W"
      },
      "source": [
        "# compiling...\n",
        "model.compile(loss='sparse_categorical_crossentropy',\n",
        "             optimizer='adam',\n",
        "             metrics=['accuracy'])\n"
      ],
      "execution_count": 6,
      "outputs": []
    },
    {
      "cell_type": "code",
      "metadata": {
        "id": "7Z8MjqGp0LyP"
      },
      "source": [
        "#Reshape for CNN\n",
        "x_train = x_train.reshape(-1,28, 28,1) \n",
        "x_test = x_test.reshape(-1,28, 28, 1)\n"
      ],
      "execution_count": 7,
      "outputs": []
    },
    {
      "cell_type": "code",
      "metadata": {
        "id": "aGK8t6V60LvF",
        "outputId": "62f1c998-6ec4-4fa1-e51b-b77be1e2d7e9",
        "colab": {
          "base_uri": "https://localhost:8080/"
        }
      },
      "source": [
        "# training the model with batch size of 70 and 11 epochs\n",
        "\n",
        "model_log=model.fit(x_train, y_train,\n",
        "          batch_size=70,\n",
        "          epochs=11,\n",
        "          verbose=1,\n",
        "          validation_split=.3)\n"
      ],
      "execution_count": 8,
      "outputs": [
        {
          "output_type": "stream",
          "name": "stdout",
          "text": [
            "Epoch 1/11\n",
            "600/600 [==============================] - 102s 162ms/step - loss: 0.3760 - accuracy: 0.8799 - val_loss: 0.1017 - val_accuracy: 0.9697\n",
            "Epoch 2/11\n",
            "600/600 [==============================] - 76s 127ms/step - loss: 0.1345 - accuracy: 0.9577 - val_loss: 0.0731 - val_accuracy: 0.9777\n",
            "Epoch 3/11\n",
            "600/600 [==============================] - 76s 127ms/step - loss: 0.0987 - accuracy: 0.9691 - val_loss: 0.0565 - val_accuracy: 0.9824\n",
            "Epoch 4/11\n",
            "600/600 [==============================] - 90s 149ms/step - loss: 0.0817 - accuracy: 0.9747 - val_loss: 0.0507 - val_accuracy: 0.9837\n",
            "Epoch 5/11\n",
            "600/600 [==============================] - 98s 164ms/step - loss: 0.0748 - accuracy: 0.9758 - val_loss: 0.0466 - val_accuracy: 0.9849\n",
            "Epoch 6/11\n",
            "600/600 [==============================] - 82s 137ms/step - loss: 0.0651 - accuracy: 0.9794 - val_loss: 0.0427 - val_accuracy: 0.9863\n",
            "Epoch 7/11\n",
            "600/600 [==============================] - 82s 136ms/step - loss: 0.0617 - accuracy: 0.9807 - val_loss: 0.0421 - val_accuracy: 0.9877\n",
            "Epoch 8/11\n",
            "600/600 [==============================] - 76s 126ms/step - loss: 0.0563 - accuracy: 0.9817 - val_loss: 0.0448 - val_accuracy: 0.9866\n",
            "Epoch 9/11\n",
            "600/600 [==============================] - 74s 123ms/step - loss: 0.0516 - accuracy: 0.9832 - val_loss: 0.0427 - val_accuracy: 0.9883\n",
            "Epoch 10/11\n",
            "600/600 [==============================] - 72s 120ms/step - loss: 0.0465 - accuracy: 0.9843 - val_loss: 0.0430 - val_accuracy: 0.9878\n",
            "Epoch 11/11\n",
            "600/600 [==============================] - 73s 121ms/step - loss: 0.0442 - accuracy: 0.9857 - val_loss: 0.0413 - val_accuracy: 0.9884\n"
          ]
        }
      ]
    },
    {
      "cell_type": "code",
      "metadata": {
        "id": "x5qiQyRa0LOh",
        "outputId": "7b50175f-e88c-489e-ef9a-ef90b0e8effb",
        "colab": {
          "base_uri": "https://localhost:8080/"
        }
      },
      "source": [
        "# Evaluate the model on test set\n",
        "score = model.evaluate(x_test, y_test, verbose=1)\n",
        "\n",
        "# Print test accuracy\n",
        "print('\\n', 'Test accuracy:', score[1])"
      ],
      "execution_count": 9,
      "outputs": [
        {
          "output_type": "stream",
          "name": "stdout",
          "text": [
            "313/313 [==============================] - 5s 16ms/step - loss: 0.0351 - accuracy: 0.9897\n",
            "\n",
            " Test accuracy: 0.9897000193595886\n"
          ]
        }
      ]
    },
    {
      "cell_type": "markdown",
      "source": [
        "The accuracy of the model is pretty high which is undesirable as it might overfit the model. But in this case we will be testing it against one of the images from the dataset so it wont matter much."
      ],
      "metadata": {
        "id": "xLKJBiW_gk2y"
      }
    },
    {
      "cell_type": "code",
      "metadata": {
        "id": "GwzqpNyJ1_CU",
        "outputId": "167ed2a3-8a2b-4a78-d442-e4b66aff5142",
        "colab": {
          "base_uri": "https://localhost:8080/"
        }
      },
      "source": [
        "predictions = model.predict(x_test)\n",
        "predictions[0]"
      ],
      "execution_count": 10,
      "outputs": [
        {
          "output_type": "stream",
          "name": "stdout",
          "text": [
            "313/313 [==============================] - 4s 14ms/step\n"
          ]
        },
        {
          "output_type": "execute_result",
          "data": {
            "text/plain": [
              "array([3.4073043e-11, 2.3708445e-08, 3.2164277e-08, 6.7122471e-08,\n",
              "       9.0894375e-11, 1.3659175e-11, 2.0843609e-15, 9.9999958e-01,\n",
              "       1.6247589e-10, 2.0986309e-07], dtype=float32)"
            ]
          },
          "metadata": {},
          "execution_count": 10
        }
      ]
    },
    {
      "cell_type": "code",
      "metadata": {
        "id": "DbFRUEnR1_WD",
        "outputId": "2d33be11-9ffc-4f8e-f8b8-16b34cdaf354",
        "colab": {
          "base_uri": "https://localhost:8080/"
        }
      },
      "source": [
        "np.argmax(predictions[0])"
      ],
      "execution_count": 11,
      "outputs": [
        {
          "output_type": "execute_result",
          "data": {
            "text/plain": [
              "7"
            ]
          },
          "metadata": {},
          "execution_count": 11
        }
      ]
    },
    {
      "cell_type": "code",
      "metadata": {
        "id": "b1ktP2L41-31",
        "outputId": "b81e6c5a-2bd6-497e-869e-c82c35330b5a",
        "colab": {
          "base_uri": "https://localhost:8080/"
        }
      },
      "source": [
        "x_test = x_test.reshape(-1,28, 28)\n",
        "x_test.shape"
      ],
      "execution_count": 12,
      "outputs": [
        {
          "data": {
            "text/plain": [
              "(10000, 28, 28)"
            ]
          },
          "execution_count": 12,
          "metadata": {},
          "output_type": "execute_result"
        }
      ]
    },
    {
      "cell_type": "code",
      "metadata": {
        "id": "hbHfl6oD2LyA",
        "outputId": "59dd8da5-c375-47e5-e4a4-a495caea4093",
        "colab": {
          "base_uri": "https://localhost:8080/",
          "height": 279
        }
      },
      "source": [
        "# Show one of the images from the test dataset\n",
        "plt.xticks([])\n",
        "plt.yticks([])\n",
        "plt.xlabel([y_train[0]])\n",
        "plt.imshow(x_test[0],cmap=plt.cm.binary)\n"
      ],
      "execution_count": 13,
      "outputs": [
        {
          "data": {
            "text/plain": [
              "<matplotlib.image.AxesImage at 0x7fdfc60d8d60>"
            ]
          },
          "execution_count": 13,
          "metadata": {},
          "output_type": "execute_result"
        },
        {
          "output_type": "display_data",
          "data": {
            "text/plain": [
              "<Figure size 432x288 with 1 Axes>"
            ],
            "image/png": "[encoded data removed]"
          },
          "metadata": {}
        }
      ]
    },
    {
      "cell_type": "code",
      "metadata": {
        "id": "UxCg4uJhyNZd",
        "colab": {
          "base_uri": "https://localhost:8080/",
          "height": 297
        },
        "outputId": "be47cede-0cb9-405a-f8eb-1e6394c304db"
      },
      "source": [
        "import os\n",
        "# plotting the metrics\n",
        "fig = plt.figure()\n",
        "plt.subplot(2,1,1)\n",
        "plt.plot(model_log.history['accuracy'])\n",
        "plt.plot(model_log.history['val_accuracy'])\n",
        "plt.title('model accuracy')\n",
        "plt.ylabel('accuracy')\n",
        "plt.xlabel('epoch')\n",
        "plt.legend(['train', 'test'], loc='lower right')\n",
        "plt.subplot(2,1,2)\n",
        "plt.plot(model_log.history['loss'])\n",
        "plt.plot(model_log.history['val_loss'])\n",
        "plt.title('model loss')\n",
        "plt.ylabel('loss')\n",
        "plt.xlabel('epoch')\n",
        "plt.legend(['train', 'test'], loc='upper right')\n",
        "plt.tight_layout()\n",
        "\n"
      ],
      "execution_count": 14,
      "outputs": [
        {
          "output_type": "display_data",
          "data": {
            "text/plain": [
              "<Figure size 432x288 with 2 Axes>"
            ],
            "image/png": "[encoded data removed]"
          },
          "metadata": {
            "needs_background": "light"
          }
        }
      ]
    },
    {
      "cell_type": "code",
      "metadata": {
        "id": "Ziz6v8C_2L3e"
      },
      "source": [
        "def plot_image(i, predictions_array, true_label, img):\n",
        "  predictions_array, true_label, img = predictions_array[i], true_label[i], img[i]\n",
        "  plt.grid(False)\n",
        "  plt.xticks([])\n",
        "  plt.yticks([])\n",
        "  \n",
        "  plt.imshow(img, cmap=plt.cm.binary)\n",
        "\n",
        "  predicted_label = np.argmax(predictions_array)\n",
        "  if predicted_label == true_label:\n",
        "    color = 'blue'\n",
        "  else:\n",
        "    color = 'red'\n",
        "  \n",
        "  plt.xlabel(\"{} {:2.0f}% ({})\".format([predicted_label],\n",
        "                                100*np.max(predictions_array),\n",
        "                                [true_label]),\n",
        "                                color=color)\n",
        "\n",
        "def plot_value_array(i, predictions_array, true_label):\n",
        "  predictions_array, true_label = predictions_array[i], true_label[i]\n",
        "  plt.grid(False)\n",
        "  plt.xticks([])\n",
        "  plt.yticks([])\n",
        "  thisplot = plt.bar(range(10), predictions_array, color=\"#777777\")\n",
        "  plt.ylim([0, 1]) \n",
        "  predicted_label = np.argmax(predictions_array)\n",
        " \n",
        "  thisplot[predicted_label].set_color('red')\n",
        "  thisplot[true_label].set_color('blue')"
      ],
      "execution_count": 15,
      "outputs": []
    },
    {
      "cell_type": "code",
      "metadata": {
        "id": "-CXp1JAQ2n4F",
        "outputId": "e13efd6d-9447-49ce-b778-f465aa055a30",
        "colab": {
          "base_uri": "https://localhost:8080/",
          "height": 589
        }
      },
      "source": [
        "# Plot the first X test images, their predicted label, and the true label\n",
        "# Color correct predictions in blue, incorrect predictions in red\n",
        "num_rows = 5\n",
        "num_cols = 3\n",
        "num_images = num_rows*num_cols\n",
        "plt.figure(figsize=(2*2*num_cols, 2*num_rows))\n",
        "for i in range(num_images):\n",
        "  plt.subplot(num_rows, 2*num_cols, 2*i+1)\n",
        "  plot_image(i, predictions, y_test, x_test)\n",
        "  plt.subplot(num_rows, 2*num_cols, 2*i+2)\n",
        "  plot_value_array(i, predictions, y_test)\n",
        "plt.show()"
      ],
      "execution_count": 16,
      "outputs": [
        {
          "output_type": "display_data",
          "data": {
            "text/plain": [
              "<Figure size 864x720 with 30 Axes>"
            ],
            "image/png": "[encoded data removed]"
          },
          "metadata": {}
        }
      ]
    },
    {
      "cell_type": "code",
      "source": [
        "# Confusion matrix\n",
        "from sklearn.metrics import confusion_matrix\n",
        "from sklearn.metrics import ConfusionMatrixDisplay\n",
        "\n",
        "confusion = confusion_matrix(y_test, np.argmax(predictions,axis=1))\n",
        "cm_display = ConfusionMatrixDisplay(confusion_matrix = confusion, display_labels = [0,1,2,3,4,5,6,7,8,9])\n",
        "\n",
        "cm_display.plot()\n",
        "plt.show()"
      ],
      "metadata": {
        "colab": {
          "base_uri": "https://localhost:8080/",
          "height": 279
        },
        "id": "dxVklOCsjTUQ",
        "outputId": "e01acdd7-8fdc-4f9b-a28d-b5ded013c9c9"
      },
      "execution_count": 17,
      "outputs": [
        {
          "output_type": "display_data",
          "data": {
            "text/plain": [
              "<Figure size 432x288 with 2 Axes>"
            ],
            "image/png": "[encoded data removed]"
          },
          "metadata": {
            "needs_background": "light"
          }
        }
      ]
    }
  ]
}